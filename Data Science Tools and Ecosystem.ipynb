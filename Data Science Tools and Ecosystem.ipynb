{
 "cells": [
  {
   "cell_type": "markdown",
   "id": "f76a9a3d-49aa-4fdf-9639-4aceb8b71717",
   "metadata": {},
   "source": [
    "# Data Science Tools and Ecosystem"
   ]
  },
  {
   "cell_type": "code",
   "execution_count": null,
   "id": "afe66a84-b2af-48a2-9790-bbb31b6b68e1",
   "metadata": {},
   "outputs": [],
   "source": [
    "In this Notebook, Data Science Tools and Ecosystem are summarize."
   ]
  },
  {
   "cell_type": "markdown",
   "id": "767441d0-21d0-40c9-a161-d60840556592",
   "metadata": {},
   "source": [
    "Some of the Popular language that Data Scientists use are:\n",
    "1. Julia\n",
    "2. R\n",
    "3. Python\n",
    "4. Java"
   ]
  },
  {
   "cell_type": "markdown",
   "id": "fa820c76-076e-4778-b67a-24931cb7238b",
   "metadata": {},
   "source": [
    "\n",
    "Some of the commonly used libraries used by Data Scientists include:Some of the commonly used libraries used by Data Scientists include:\n",
    "- Pandas\n",
    "- Numpy\n",
    "- Seaborn\n",
    "- Pyplot\n",
    "- sklearn\n",
    "- matplotlib\n"
   ]
  },
  {
   "cell_type": "markdown",
   "id": "62b85ce1-bd40-4fdc-9ff4-f8696660d27f",
   "metadata": {},
   "source": [
    "| Tools Used |\n",
    "|--------------|\n",
    "|JupyterLab    |\n",
    "|VS Tools      |\n",
    "|RStudio       |\n",
    "\n"
   ]
  },
  {
   "cell_type": "markdown",
   "id": "25464b6c-810d-42e0-8d88-b1dfececde12",
   "metadata": {},
   "source": [
    "### Below are a few examples of evaluating arithmetic expressions in Python"
   ]
  },
  {
   "cell_type": "code",
   "execution_count": 9,
   "id": "f7e37466-6fe4-4203-b4aa-a469a49de376",
   "metadata": {},
   "outputs": [
    {
     "name": "stdout",
     "output_type": "stream",
     "text": [
      "17\n"
     ]
    },
    {
     "data": {
      "text/plain": [
       "'\\nThis a simple arithmetic expression to mutiply then add integers\\n'"
      ]
     },
     "execution_count": 9,
     "metadata": {},
     "output_type": "execute_result"
    }
   ],
   "source": [
    "print((3*4) + 5)\n",
    "'''\n",
    "This a simple arithmetic expression to mutiply then add integers\n",
    "'''"
   ]
  },
  {
   "cell_type": "code",
   "execution_count": 25,
   "id": "ee875b94-54f1-41d3-b28b-5ac97980e9e3",
   "metadata": {},
   "outputs": [
    {
     "name": "stdout",
     "output_type": "stream",
     "text": [
      "Time: 3:20\n"
     ]
    }
   ],
   "source": [
    "total_mins = 200\n",
    "# Get Hours using floor function\n",
    "hours = total_mins // 60\n",
    "# Get Mins using Mod function\n",
    "mins = total_mins % 60\n",
    "print(\"Time: {}:{}\".format(hours, mins))"
   ]
  },
  {
   "cell_type": "markdown",
   "id": "708f8a57-d05b-4280-a915-4739d86f38aa",
   "metadata": {},
   "source": [
    "**Objectives**\n",
    "- Introduction\n",
    "- Title\n",
    "- Markdowns\n",
    "- Popular language that Data Scientists use \n",
    "- Commonly used libraries used by Data Scientists\n",
    "- Tools used by Data Scientist\n",
    "- Arithmatic Intro\n",
    "- Multiply and Add Integers\n"
   ]
  },
  {
   "cell_type": "markdown",
   "id": "e4e815f5-c18a-449f-b8cf-32887db78f27",
   "metadata": {},
   "source": [
    " <h2>Author</h2>\n",
    "\n",
    " Franklin D'Souza"
   ]
  },
  {
   "cell_type": "code",
   "execution_count": null,
   "id": "a820d9de-ad0c-4e11-b597-b9f9e8ebcfae",
   "metadata": {},
   "outputs": [],
   "source": []
  }
 ],
 "metadata": {
  "kernelspec": {
   "display_name": "Python 3 (ipykernel)",
   "language": "python",
   "name": "python3"
  },
  "language_info": {
   "codemirror_mode": {
    "name": "ipython",
    "version": 3
   },
   "file_extension": ".py",
   "mimetype": "text/x-python",
   "name": "python",
   "nbconvert_exporter": "python",
   "pygments_lexer": "ipython3",
   "version": "3.12.7"
  }
 },
 "nbformat": 4,
 "nbformat_minor": 5
}
